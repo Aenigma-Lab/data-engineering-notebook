{
  "nbformat": 4,
  "nbformat_minor": 0,
  "metadata": {
    "colab": {
      "provenance": [],
      "authorship_tag": "ABX9TyPPU7yV2c9QfQSBqKxjuyMf",
      "include_colab_link": true
    },
    "kernelspec": {
      "name": "python3",
      "display_name": "Python 3"
    },
    "language_info": {
      "name": "python"
    }
  },
  "cells": [
    {
      "cell_type": "markdown",
      "metadata": {
        "id": "view-in-github",
        "colab_type": "text"
      },
      "source": [
        "<a href=\"https://colab.research.google.com/github/Aenigma-Lab/data-engineering-notebook/blob/main/python/set.ipynb\" target=\"_parent\"><img src=\"https://colab.research.google.com/assets/colab-badge.svg\" alt=\"Open In Colab\"/></a>"
      ]
    },
    {
      "cell_type": "code",
      "execution_count": 2,
      "metadata": {
        "id": "i-ZthfswpUAV"
      },
      "outputs": [],
      "source": [
        "# set: unordered, doesnot allow duplicates, slightly mutable(not so impt dont skretch your mind just know basic.)\n",
        "\n",
        "myset = {'apple','banana','mango'}\n",
        "\n",
        "myset.add('apple') # not allow duplicate hence it will not added."
      ]
    },
    {
      "cell_type": "code",
      "source": [
        "myset"
      ],
      "metadata": {
        "colab": {
          "base_uri": "https://localhost:8080/"
        },
        "id": "N4nhJ8Szp25Z",
        "outputId": "f4c6690f-c55c-4733-c37d-0037dd6df7ad"
      },
      "execution_count": 3,
      "outputs": [
        {
          "output_type": "execute_result",
          "data": {
            "text/plain": [
              "{'apple', 'banana', 'mango'}"
            ]
          },
          "metadata": {},
          "execution_count": 3
        }
      ]
    },
    {
      "cell_type": "code",
      "source": [
        "myset.add('orange')\n",
        "myset"
      ],
      "metadata": {
        "colab": {
          "base_uri": "https://localhost:8080/"
        },
        "id": "e-zkk8rPKPEL",
        "outputId": "ff428aad-8386-4a24-eebb-cc40d57c030f"
      },
      "execution_count": 7,
      "outputs": [
        {
          "output_type": "execute_result",
          "data": {
            "text/plain": [
              "{'apple', 'banana', 'mango', 'orange'}"
            ]
          },
          "metadata": {},
          "execution_count": 7
        }
      ]
    },
    {
      "cell_type": "code",
      "source": [
        "myset.add('pineapple') # it will not execute always in same order. so we can not use index here.\n",
        "myset"
      ],
      "metadata": {
        "colab": {
          "base_uri": "https://localhost:8080/"
        },
        "id": "-CVCo8T7KhQM",
        "outputId": "79b15468-765a-4d5a-d6d1-0157f674e955"
      },
      "execution_count": 8,
      "outputs": [
        {
          "output_type": "execute_result",
          "data": {
            "text/plain": [
              "{'apple', 'banana', 'mango', 'orange', 'pineapple'}"
            ]
          },
          "metadata": {},
          "execution_count": 8
        }
      ]
    },
    {
      "cell_type": "code",
      "source": [
        "y = list(myset) # we can not do operations because it is not in orderd set always.\n",
        "y"
      ],
      "metadata": {
        "colab": {
          "base_uri": "https://localhost:8080/"
        },
        "id": "Ob5OBDz5K8_0",
        "outputId": "7a3b1cf3-ce2c-4457-a198-cbce51aa2ad4"
      },
      "execution_count": 9,
      "outputs": [
        {
          "output_type": "execute_result",
          "data": {
            "text/plain": [
              "['mango', 'apple', 'orange', 'pineapple', 'banana']"
            ]
          },
          "metadata": {},
          "execution_count": 9
        }
      ]
    },
    {
      "cell_type": "code",
      "source": [
        "y.append('grapes')\n",
        "y"
      ],
      "metadata": {
        "colab": {
          "base_uri": "https://localhost:8080/"
        },
        "id": "nhQ_rwixLN5I",
        "outputId": "60234d46-07dd-49fd-fe9c-d65a6e3724f5"
      },
      "execution_count": 10,
      "outputs": [
        {
          "output_type": "execute_result",
          "data": {
            "text/plain": [
              "['mango', 'apple', 'orange', 'pineapple', 'banana', 'grapes']"
            ]
          },
          "metadata": {},
          "execution_count": 10
        }
      ]
    },
    {
      "cell_type": "code",
      "source": [
        "# again convert to set\n",
        "list_to_set = set(y)\n",
        "list_to_set"
      ],
      "metadata": {
        "colab": {
          "base_uri": "https://localhost:8080/"
        },
        "id": "onAlVnrDLUD7",
        "outputId": "36c3f1aa-e96f-4b65-905c-c0671a197c2e"
      },
      "execution_count": 11,
      "outputs": [
        {
          "output_type": "execute_result",
          "data": {
            "text/plain": [
              "{'apple', 'banana', 'grapes', 'mango', 'orange', 'pineapple'}"
            ]
          },
          "metadata": {},
          "execution_count": 11
        }
      ]
    }
  ]
}