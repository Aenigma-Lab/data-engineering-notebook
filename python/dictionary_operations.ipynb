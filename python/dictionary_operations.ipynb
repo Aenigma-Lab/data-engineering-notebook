{
  "nbformat": 4,
  "nbformat_minor": 0,
  "metadata": {
    "colab": {
      "provenance": [],
      "authorship_tag": "ABX9TyMhbLbR+F6i2V6gs53fXnt/",
      "include_colab_link": true
    },
    "kernelspec": {
      "name": "python3",
      "display_name": "Python 3"
    },
    "language_info": {
      "name": "python"
    }
  },
  "cells": [
    {
      "cell_type": "markdown",
      "metadata": {
        "id": "view-in-github",
        "colab_type": "text"
      },
      "source": [
        "<a href=\"https://colab.research.google.com/github/Aenigma-Lab/data-engineering-notebook/blob/main/python/dictionary_operations.ipynb\" target=\"_parent\"><img src=\"https://colab.research.google.com/assets/colab-badge.svg\" alt=\"Open In Colab\"/></a>"
      ]
    },
    {
      "cell_type": "code",
      "execution_count": 5,
      "metadata": {
        "id": "D7PdcEat34iN"
      },
      "outputs": [],
      "source": [
        "# Dictionary: Ordered, dosnot allow duplicate, mutable : it is similer to JSON\n",
        "#(javascript object notation.)\n",
        "#{key: value}\n",
        "\n",
        "x = {\n",
        "\n",
        "     'fname':'shubham',\n",
        "     'lname': 'mishra',\n",
        "     'age' : 27,\n",
        "     'city': 'mumbai',\n",
        "     'country': 'india',\n",
        "     'salary' : 10000000,\n",
        "     'married' : False,\n",
        "     'phone_numbers' : [1234567894,9808767874]\n",
        "\n",
        "}\n",
        "\n"
      ]
    },
    {
      "cell_type": "code",
      "source": [
        "# value accessing with the help of key.\n",
        "x['fname']"
      ],
      "metadata": {
        "colab": {
          "base_uri": "https://localhost:8080/",
          "height": 35
        },
        "id": "j3iFRSLS6IDm",
        "outputId": "24f937d7-f0ed-4289-8f6c-f59426b78b7d"
      },
      "execution_count": 6,
      "outputs": [
        {
          "output_type": "execute_result",
          "data": {
            "text/plain": [
              "'shubham'"
            ],
            "application/vnd.google.colaboratory.intrinsic+json": {
              "type": "string"
            }
          },
          "metadata": {},
          "execution_count": 6
        }
      ]
    },
    {
      "cell_type": "code",
      "source": [
        "#find first phone number, with the help of index number.\n",
        "x['phone_numbers'][0]"
      ],
      "metadata": {
        "colab": {
          "base_uri": "https://localhost:8080/"
        },
        "id": "2Sn8tT3O6Nus",
        "outputId": "224be6d9-635f-4186-b1c2-570c309cb1a2"
      },
      "execution_count": 7,
      "outputs": [
        {
          "output_type": "execute_result",
          "data": {
            "text/plain": [
              "1234567894"
            ]
          },
          "metadata": {},
          "execution_count": 7
        }
      ]
    },
    {
      "cell_type": "code",
      "source": [
        "# find all keys inside the dictionary.\n",
        "\n",
        "x.keys()"
      ],
      "metadata": {
        "colab": {
          "base_uri": "https://localhost:8080/"
        },
        "id": "0PE3xi1M676j",
        "outputId": "aee0fb7a-cf8f-4313-ee75-a09212a4373c"
      },
      "execution_count": 8,
      "outputs": [
        {
          "output_type": "execute_result",
          "data": {
            "text/plain": [
              "dict_keys(['fname', 'lname', 'age', 'city', 'country', 'salary', 'married', 'phone_numbers'])"
            ]
          },
          "metadata": {},
          "execution_count": 8
        }
      ]
    },
    {
      "cell_type": "code",
      "source": [
        "# find all the values inside the dictionary.\n",
        "x.values()"
      ],
      "metadata": {
        "colab": {
          "base_uri": "https://localhost:8080/"
        },
        "id": "WVNC4Yoo7EWe",
        "outputId": "816dab66-1ca4-4f44-913f-186f061839a5"
      },
      "execution_count": 9,
      "outputs": [
        {
          "output_type": "execute_result",
          "data": {
            "text/plain": [
              "dict_values(['shubham', 'mishra', 27, 'mumbai', 'india', 10000000, False, [1234567894, 9808767874]])"
            ]
          },
          "metadata": {},
          "execution_count": 9
        }
      ]
    },
    {
      "cell_type": "code",
      "source": [
        "# find keys and values both from dictionary.\n",
        "x.items()"
      ],
      "metadata": {
        "colab": {
          "base_uri": "https://localhost:8080/"
        },
        "id": "MefPoNc07Kvr",
        "outputId": "bc77b141-5caa-4a79-d03f-112d9d210472"
      },
      "execution_count": 10,
      "outputs": [
        {
          "output_type": "execute_result",
          "data": {
            "text/plain": [
              "dict_items([('fname', 'shubham'), ('lname', 'mishra'), ('age', 27), ('city', 'mumbai'), ('country', 'india'), ('salary', 10000000), ('married', False), ('phone_numbers', [1234567894, 9808767874])])"
            ]
          },
          "metadata": {},
          "execution_count": 10
        }
      ]
    },
    {
      "cell_type": "code",
      "source": [
        "# change first name fname to 'aman'\n",
        "\n",
        "x['fname'] = 'aman'\n",
        "print(x)"
      ],
      "metadata": {
        "colab": {
          "base_uri": "https://localhost:8080/"
        },
        "id": "4X5LM4_27R5O",
        "outputId": "19e816c0-3918-402d-c5e5-b7bce619b098"
      },
      "execution_count": 13,
      "outputs": [
        {
          "output_type": "stream",
          "name": "stdout",
          "text": [
            "{'fname': 'aman', 'lname': 'mishra', 'age': 27, 'city': 'mumbai', 'country': 'india', 'salary': 10000000, 'married': False, 'phone_numbers': [1234567894, 9808767874]}\n"
          ]
        }
      ]
    },
    {
      "cell_type": "code",
      "source": [
        "# here adding new value if not present inside the dictionary (adding with key and value).if it is already present it will replace the value.\n",
        "x['address'] = 'mumbai 43213'\n",
        "print(x)"
      ],
      "metadata": {
        "colab": {
          "base_uri": "https://localhost:8080/"
        },
        "id": "4mqRZTBv7kRg",
        "outputId": "74a7eff7-f66b-4279-ee0e-44e44047bb13"
      },
      "execution_count": 16,
      "outputs": [
        {
          "output_type": "stream",
          "name": "stdout",
          "text": [
            "{'fname': 'aman', 'lname': 'mishra', 'age': 27, 'city': 'mumbai', 'country': 'india', 'salary': 10000000, 'married': False, 'phone_numbers': [1234567894, 9808767874], 'address': 'mumbai 43213'}\n"
          ]
        }
      ]
    },
    {
      "cell_type": "code",
      "source": [
        "# pop the last item from dictionary: useing popitem\n",
        "\n",
        "x.popitem()\n",
        "print(x) # address will pop"
      ],
      "metadata": {
        "colab": {
          "base_uri": "https://localhost:8080/"
        },
        "id": "oACHb3kB70l7",
        "outputId": "58d4d049-c6ab-40c5-cb27-192909309eba"
      },
      "execution_count": 17,
      "outputs": [
        {
          "output_type": "stream",
          "name": "stdout",
          "text": [
            "{'fname': 'aman', 'lname': 'mishra', 'age': 27, 'city': 'mumbai', 'country': 'india', 'salary': 10000000, 'married': False, 'phone_numbers': [1234567894, 9808767874]}\n"
          ]
        }
      ]
    },
    {
      "cell_type": "code",
      "source": [
        "#clear all data inside the dictionary.\n",
        "x.clear()\n",
        "print(x)"
      ],
      "metadata": {
        "colab": {
          "base_uri": "https://localhost:8080/"
        },
        "id": "el0ulRMM8X20",
        "outputId": "bb1ede4f-d879-46ec-f1a6-ba944861bbb8"
      },
      "execution_count": 20,
      "outputs": [
        {
          "output_type": "stream",
          "name": "stdout",
          "text": [
            "{}\n"
          ]
        }
      ]
    },
    {
      "cell_type": "code",
      "source": [
        "# we can use like this also:\n",
        "\n",
        "y = {\n",
        "\n",
        "     'fname':'shubham',\n",
        "     'lname': 'mishra',\n",
        "     'age' : 27,\n",
        "     'city': 'mumbai',\n",
        "     'country': 'india'\n",
        "\n",
        "\n",
        "}\n",
        "\n",
        "\n",
        "y.pop('age') # atlest one argument required."
      ],
      "metadata": {
        "colab": {
          "base_uri": "https://localhost:8080/"
        },
        "id": "46Jph4YO8l8X",
        "outputId": "bb3203db-6879-40dd-c08d-dd2ce7f2e514"
      },
      "execution_count": 22,
      "outputs": [
        {
          "output_type": "execute_result",
          "data": {
            "text/plain": [
              "27"
            ]
          },
          "metadata": {},
          "execution_count": 22
        }
      ]
    },
    {
      "cell_type": "code",
      "source": [
        "x = {\n",
        "\n",
        "     'fname':'shubham',\n",
        "     'lname': 'mishra',\n",
        "     'age' : 27,\n",
        "     'city': 'mumbai',\n",
        "     'country': 'india',\n",
        "     'salary' : 10000000,\n",
        "     'married' : False,\n",
        "     'phone_numbers' : [1234567894,9808767874]\n",
        "\n",
        "}\n",
        "\n"
      ],
      "metadata": {
        "id": "qYfR1UTY9DXb"
      },
      "execution_count": 24,
      "outputs": []
    },
    {
      "cell_type": "code",
      "source": [
        "#unpacking:\n",
        "for i in x.values():\n",
        "  print(i)"
      ],
      "metadata": {
        "colab": {
          "base_uri": "https://localhost:8080/"
        },
        "id": "5k7FR5Zd9GPG",
        "outputId": "33e609cb-ff1e-46a7-807d-a09dfd7fc200"
      },
      "execution_count": 27,
      "outputs": [
        {
          "output_type": "stream",
          "name": "stdout",
          "text": [
            "shubham\n",
            "mishra\n",
            "27\n",
            "mumbai\n",
            "india\n",
            "10000000\n",
            "False\n",
            "[1234567894, 9808767874]\n"
          ]
        }
      ]
    },
    {
      "cell_type": "code",
      "source": [
        "#del : delete entire dictionary\n",
        "del x # it delte entire dictionary.\n"
      ],
      "metadata": {
        "colab": {
          "base_uri": "https://localhost:8080/",
          "height": 159
        },
        "id": "y95YZOVK9Qgp",
        "outputId": "1ad12eb1-2d20-4d53-8a13-25d13300aa4a"
      },
      "execution_count": 31,
      "outputs": [
        {
          "output_type": "error",
          "ename": "NameError",
          "evalue": "name 'x' is not defined",
          "traceback": [
            "\u001b[0;31m---------------------------------------------------------------------------\u001b[0m",
            "\u001b[0;31mNameError\u001b[0m                                 Traceback (most recent call last)",
            "\u001b[0;32m/tmp/ipython-input-383455880.py\u001b[0m in \u001b[0;36m<cell line: 0>\u001b[0;34m()\u001b[0m\n\u001b[1;32m      1\u001b[0m \u001b[0;31m#del : delete entire dictionary\u001b[0m\u001b[0;34m\u001b[0m\u001b[0;34m\u001b[0m\u001b[0m\n\u001b[0;32m----> 2\u001b[0;31m \u001b[0;32mdel\u001b[0m \u001b[0mx\u001b[0m\u001b[0;34m\u001b[0m\u001b[0;34m\u001b[0m\u001b[0m\n\u001b[0m",
            "\u001b[0;31mNameError\u001b[0m: name 'x' is not defined"
          ]
        }
      ]
    },
    {
      "cell_type": "code",
      "source": [
        "# nested dictionary: dictionary inside the dictionary....\n",
        "students = {\n",
        "    'student1': {\n",
        "        'fname': 'shubham',\n",
        "        'last': 'mishra',\n",
        "        'age': 27,\n",
        "        'city': 'mumbai'\n",
        "    },\n",
        "    'student2': {\n",
        "        'fname': 'priya',\n",
        "        'last': 'sharma',\n",
        "        'age': 24,\n",
        "        'city': 'delhi'\n",
        "    },\n",
        "    'student3': {\n",
        "        'fname': 'amit',\n",
        "        'last': 'verma',\n",
        "        'age': 26,\n",
        "        'city': 'pune'\n",
        "    },\n",
        "    'student4': {\n",
        "        'fname': 'neha',\n",
        "        'last': 'singh',\n",
        "        'age': 25,\n",
        "        'city': 'kolkata'\n",
        "    },\n",
        "    'student5': {\n",
        "        'fname': 'rohan',\n",
        "        'last': 'patil',\n",
        "        'age': 28,\n",
        "        'city': 'bangalore'\n",
        "    }\n",
        "}\n"
      ],
      "metadata": {
        "id": "R1uVnDze9ckq"
      },
      "execution_count": 32,
      "outputs": []
    },
    {
      "cell_type": "code",
      "source": [
        "# accessing the student1 info.\n",
        "students['student1']"
      ],
      "metadata": {
        "colab": {
          "base_uri": "https://localhost:8080/"
        },
        "id": "RIs3RV2gwtCM",
        "outputId": "2c9907d7-fbb3-4227-a190-f0c843f36b44"
      },
      "execution_count": 34,
      "outputs": [
        {
          "output_type": "execute_result",
          "data": {
            "text/plain": [
              "{'fname': 'shubham', 'last': 'mishra', 'age': 27, 'city': 'mumbai'}"
            ]
          },
          "metadata": {},
          "execution_count": 34
        }
      ]
    },
    {
      "cell_type": "code",
      "source": [
        "# accessing the info of student1 info with use of key.\n",
        "students['student1']['city']"
      ],
      "metadata": {
        "colab": {
          "base_uri": "https://localhost:8080/",
          "height": 35
        },
        "id": "fprv7bAbzihX",
        "outputId": "39443412-75c9-43d9-cce0-8f079b70f467"
      },
      "execution_count": 35,
      "outputs": [
        {
          "output_type": "execute_result",
          "data": {
            "text/plain": [
              "'mumbai'"
            ],
            "application/vnd.google.colaboratory.intrinsic+json": {
              "type": "string"
            }
          },
          "metadata": {},
          "execution_count": 35
        }
      ]
    },
    {
      "cell_type": "code",
      "source": [
        "# if dot know the keys..to get keys.\n",
        "students['student1'].keys()"
      ],
      "metadata": {
        "colab": {
          "base_uri": "https://localhost:8080/"
        },
        "id": "OvGZg-aWz5B3",
        "outputId": "b13428bd-114d-4c67-bd04-de15d5efb2a1"
      },
      "execution_count": 36,
      "outputs": [
        {
          "output_type": "execute_result",
          "data": {
            "text/plain": [
              "dict_keys(['fname', 'last', 'age', 'city'])"
            ]
          },
          "metadata": {},
          "execution_count": 36
        }
      ]
    },
    {
      "cell_type": "code",
      "source": [
        "# get all keys and values.\n",
        "students.items()"
      ],
      "metadata": {
        "colab": {
          "base_uri": "https://localhost:8080/"
        },
        "id": "kIjaIMMN3xWc",
        "outputId": "8c1d22ab-eaad-43c3-870e-50476c168bf4"
      },
      "execution_count": 37,
      "outputs": [
        {
          "output_type": "execute_result",
          "data": {
            "text/plain": [
              "dict_items([('student1', {'fname': 'shubham', 'last': 'mishra', 'age': 27, 'city': 'mumbai'}), ('student2', {'fname': 'priya', 'last': 'sharma', 'age': 24, 'city': 'delhi'}), ('student3', {'fname': 'amit', 'last': 'verma', 'age': 26, 'city': 'pune'}), ('student4', {'fname': 'neha', 'last': 'singh', 'age': 25, 'city': 'kolkata'}), ('student5', {'fname': 'rohan', 'last': 'patil', 'age': 28, 'city': 'bangalore'})])"
            ]
          },
          "metadata": {},
          "execution_count": 37
        }
      ]
    },
    {
      "cell_type": "code",
      "source": [
        "#pop the city from student1\n",
        "students['student1'].pop('city')"
      ],
      "metadata": {
        "colab": {
          "base_uri": "https://localhost:8080/",
          "height": 35
        },
        "id": "iBc0Fd0d3-T0",
        "outputId": "5b2ce908-68fb-4112-e96b-c3dda23d79d1"
      },
      "execution_count": 38,
      "outputs": [
        {
          "output_type": "execute_result",
          "data": {
            "text/plain": [
              "'mumbai'"
            ],
            "application/vnd.google.colaboratory.intrinsic+json": {
              "type": "string"
            }
          },
          "metadata": {},
          "execution_count": 38
        }
      ]
    },
    {
      "cell_type": "code",
      "source": [
        "# Another example....\n",
        "\n",
        "orders = {\n",
        "    'order1': {\n",
        "        'customer': 'shubham',\n",
        "        'items': ['apple', 'banana', 'orange'],\n",
        "        'total': 1000\n",
        "    },\n",
        "    'order2': {\n",
        "        'customer': 'priya',\n",
        "        'items': ['milk', 'bread', 'butter'],\n",
        "        'total': 450\n",
        "    },\n",
        "    'order3': {\n",
        "        'customer': 'amit',\n",
        "        'items': ['laptop', 'mouse'],\n",
        "        'total': 55000\n",
        "    },\n",
        "    'order4': {\n",
        "        'customer': 'neha',\n",
        "        'items': ['shirt', 'jeans', 'shoes'],\n",
        "        'total': 3200\n",
        "    },\n",
        "    'order5': {\n",
        "        'customer': 'rohan',\n",
        "        'items': ['pizza', 'coke'],\n",
        "        'total': 650\n",
        "    }\n",
        "}\n"
      ],
      "metadata": {
        "id": "CWZW9gQP5QNI"
      },
      "execution_count": 39,
      "outputs": []
    },
    {
      "cell_type": "code",
      "source": [
        "#to print output as banana from orders.\n",
        "orders['order1']['items'][1]"
      ],
      "metadata": {
        "colab": {
          "base_uri": "https://localhost:8080/",
          "height": 35
        },
        "id": "6TSpCO7p5-H4",
        "outputId": "ee4e72d9-10d9-4320-fd5d-c7ef4fffcef9"
      },
      "execution_count": 41,
      "outputs": [
        {
          "output_type": "execute_result",
          "data": {
            "text/plain": [
              "'banana'"
            ],
            "application/vnd.google.colaboratory.intrinsic+json": {
              "type": "string"
            }
          },
          "metadata": {},
          "execution_count": 41
        }
      ]
    },
    {
      "cell_type": "code",
      "source": [
        "# get order4 of toal item value.\n",
        "orders['order4']['total']"
      ],
      "metadata": {
        "colab": {
          "base_uri": "https://localhost:8080/"
        },
        "id": "PJb2P7zV6JI3",
        "outputId": "6e92a302-35cb-42cf-c0cd-eb5a2180e78c"
      },
      "execution_count": 42,
      "outputs": [
        {
          "output_type": "execute_result",
          "data": {
            "text/plain": [
              "3200"
            ]
          },
          "metadata": {},
          "execution_count": 42
        }
      ]
    },
    {
      "cell_type": "code",
      "source": [
        "# Another example of Employees\n",
        "\n",
        "employees = {\n",
        "    'IT': {\n",
        "        'employee1': {\n",
        "            'first_name': 'shubham',\n",
        "            'last_name': 'mishra',\n",
        "            'age': 27\n",
        "        },\n",
        "        'employee2': {\n",
        "            'first_name': 'priya',\n",
        "            'last_name': 'sharma',\n",
        "            'age': 25\n",
        "        },\n",
        "        'employee3': {\n",
        "            'first_name': 'amit',\n",
        "            'last_name': 'verma',\n",
        "            'age': 29\n",
        "        }\n",
        "    },\n",
        "    'HR': {\n",
        "        'employee1': {\n",
        "            'first_name': 'neha',\n",
        "            'last_name': 'singh',\n",
        "            'age': 26\n",
        "        },\n",
        "        'employee2': {\n",
        "            'first_name': 'rohan',\n",
        "            'last_name': 'patil',\n",
        "            'age': 31\n",
        "        },\n",
        "        'employee3': {\n",
        "            'first_name': 'sneha',\n",
        "            'last_name': 'joshi',\n",
        "            'age': 28\n",
        "        }\n",
        "    },\n",
        "    'Finance': {\n",
        "        'employee1': {\n",
        "            'first_name': 'anil',\n",
        "            'last_name': 'kumar',\n",
        "            'age': 35\n",
        "        },\n",
        "        'employee2': {\n",
        "            'first_name': 'meera',\n",
        "            'last_name': 'rai',\n",
        "            'age': 30\n",
        "        },\n",
        "        'employee3': {\n",
        "            'first_name': 'vijay',\n",
        "            'last_name': 'shah',\n",
        "            'age': 33\n",
        "        }\n",
        "    },\n",
        "    'Sales': {\n",
        "        'employee1': {\n",
        "            'first_name': 'deepak',\n",
        "            'last_name': 'yadav',\n",
        "            'age': 29\n",
        "        },\n",
        "        'employee2': {\n",
        "            'first_name': 'pooja',\n",
        "            'last_name': 'garg',\n",
        "            'age': 27\n",
        "        },\n",
        "        'employee3': {\n",
        "            'first_name': 'saurabh',\n",
        "            'last_name': 'gupta',\n",
        "            'age': 32\n",
        "        }\n",
        "    },\n",
        "    'Marketing': {\n",
        "        'employee1': {\n",
        "            'first_name': 'rahul',\n",
        "            'last_name': 'shinde',\n",
        "            'age': 28\n",
        "        },\n",
        "        'employee2': {\n",
        "            'first_name': 'anjali',\n",
        "            'last_name': 'kapoor',\n",
        "            'age': 26\n",
        "        },\n",
        "        'employee3': {\n",
        "            'first_name': 'arjun',\n",
        "            'last_name': 'nair',\n",
        "            'age': 30\n",
        "        }\n",
        "    }\n",
        "}\n"
      ],
      "metadata": {
        "id": "qh00wEpg6qIv"
      },
      "execution_count": 43,
      "outputs": []
    },
    {
      "cell_type": "code",
      "source": [
        "# find all the employees of HR\n",
        "employees['HR']"
      ],
      "metadata": {
        "colab": {
          "base_uri": "https://localhost:8080/"
        },
        "id": "1zAuoj-n7e_R",
        "outputId": "2714c735-1501-4e8c-c526-280f54162801"
      },
      "execution_count": 44,
      "outputs": [
        {
          "output_type": "execute_result",
          "data": {
            "text/plain": [
              "{'employee1': {'first_name': 'neha', 'last_name': 'singh', 'age': 26},\n",
              " 'employee2': {'first_name': 'rohan', 'last_name': 'patil', 'age': 31},\n",
              " 'employee3': {'first_name': 'sneha', 'last_name': 'joshi', 'age': 28}}"
            ]
          },
          "metadata": {},
          "execution_count": 44
        }
      ]
    },
    {
      "cell_type": "code",
      "source": [
        "# In HR find employee2 first_name\n",
        "employees['HR']['employee2']['first_name']\n",
        "\n"
      ],
      "metadata": {
        "colab": {
          "base_uri": "https://localhost:8080/",
          "height": 35
        },
        "id": "M50BBl1376Q7",
        "outputId": "2ff70af3-6f85-4f15-a946-2d92f64566f8"
      },
      "execution_count": 48,
      "outputs": [
        {
          "output_type": "execute_result",
          "data": {
            "text/plain": [
              "'rohan'"
            ],
            "application/vnd.google.colaboratory.intrinsic+json": {
              "type": "string"
            }
          },
          "metadata": {},
          "execution_count": 48
        }
      ]
    },
    {
      "cell_type": "code",
      "source": [
        "# get all keys of HR\n",
        "employees['HR'].keys()"
      ],
      "metadata": {
        "colab": {
          "base_uri": "https://localhost:8080/"
        },
        "id": "p0tNJtmx9VZ1",
        "outputId": "b6962387-2543-4937-fec6-c5757e263aed"
      },
      "execution_count": 49,
      "outputs": [
        {
          "output_type": "execute_result",
          "data": {
            "text/plain": [
              "dict_keys(['employee1', 'employee2', 'employee3'])"
            ]
          },
          "metadata": {},
          "execution_count": 49
        }
      ]
    },
    {
      "cell_type": "code",
      "source": [
        "fruits = {\n",
        "    'apple': {\n",
        "        'color': 'red',\n",
        "        'taste': 'sweet'\n",
        "    },\n",
        "    'banana': {\n",
        "        'color': 'yellow',\n",
        "        'taste': 'sweet'\n",
        "    },\n",
        "    'orange': {\n",
        "        'color': 'orange',\n",
        "        'taste': 'citrusy'\n",
        "    },\n",
        "    'grape': {\n",
        "        'color': 'purple',\n",
        "        'taste': 'sweet-tart'\n",
        "    },\n",
        "    'lemon': {\n",
        "        'color': 'yellow',\n",
        "        'taste': 'sour'\n",
        "    }\n",
        "}\n"
      ],
      "metadata": {
        "id": "M9mFYz8j8lQ8"
      },
      "execution_count": null,
      "outputs": []
    }
  ]
}