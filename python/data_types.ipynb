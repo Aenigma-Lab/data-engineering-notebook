{
  "nbformat": 4,
  "nbformat_minor": 0,
  "metadata": {
    "colab": {
      "provenance": [],
      "toc_visible": true,
      "include_colab_link": true
    },
    "kernelspec": {
      "name": "python3",
      "display_name": "Python 3"
    },
    "language_info": {
      "name": "python"
    }
  },
  "cells": [
    {
      "cell_type": "markdown",
      "metadata": {
        "id": "view-in-github",
        "colab_type": "text"
      },
      "source": [
        "<a href=\"https://colab.research.google.com/github/Aenigma-Lab/data-engineering-notebook/blob/main/python/data_types.ipynb\" target=\"_parent\"><img src=\"https://colab.research.google.com/assets/colab-badge.svg\" alt=\"Open In Colab\"/></a>"
      ]
    },
    {
      "cell_type": "markdown",
      "source": [
        "## DATA TYPES\n"
      ],
      "metadata": {
        "id": "ondUvoDEc4dg"
      }
    },
    {
      "cell_type": "code",
      "source": [
        "# integer (whole number) | float(decimal) | boolean (True(1)/ False(0)) |String ('Shubham', '123', \"Shubham\")\n",
        "\n",
        "# Integer:\n",
        "# Additon: +\n",
        "# Subtraction: -\n",
        "# Multiplication: *\n",
        "# Division: /\n",
        "# Modulus: %\n",
        "# Floor division: //"
      ],
      "metadata": {
        "id": "m-0UuhBjc-LA"
      },
      "execution_count": null,
      "outputs": []
    },
    {
      "cell_type": "code",
      "source": [
        "1+1.005\n"
      ],
      "metadata": {
        "colab": {
          "base_uri": "https://localhost:8080/"
        },
        "id": "Z5bOeg_3d1Es",
        "outputId": "92ff0a46-7bd3-4946-8622-1857d731f005"
      },
      "execution_count": null,
      "outputs": [
        {
          "output_type": "execute_result",
          "data": {
            "text/plain": [
              "2.005"
            ]
          },
          "metadata": {},
          "execution_count": 5
        }
      ]
    },
    {
      "cell_type": "code",
      "source": [
        "1+ True"
      ],
      "metadata": {
        "colab": {
          "base_uri": "https://localhost:8080/"
        },
        "id": "-EXdjOBUlh_3",
        "outputId": "e29b8482-8ca6-49fc-f9a2-a7cee3ad765d"
      },
      "execution_count": null,
      "outputs": [
        {
          "output_type": "execute_result",
          "data": {
            "text/plain": [
              "2"
            ]
          },
          "metadata": {},
          "execution_count": 8
        }
      ]
    },
    {
      "cell_type": "code",
      "source": [
        "10-2"
      ],
      "metadata": {
        "colab": {
          "base_uri": "https://localhost:8080/"
        },
        "id": "v4aKAWwVlf1n",
        "outputId": "f132517a-1643-4a80-c0da-f01f667b606b"
      },
      "execution_count": null,
      "outputs": [
        {
          "output_type": "execute_result",
          "data": {
            "text/plain": [
              "8"
            ]
          },
          "metadata": {},
          "execution_count": 9
        }
      ]
    },
    {
      "cell_type": "code",
      "source": [
        "10*2"
      ],
      "metadata": {
        "colab": {
          "base_uri": "https://localhost:8080/"
        },
        "id": "vDGYcxSuluyp",
        "outputId": "f47d2c63-72c4-4a2f-c88c-5ef86864b2bf"
      },
      "execution_count": null,
      "outputs": [
        {
          "output_type": "execute_result",
          "data": {
            "text/plain": [
              "20"
            ]
          },
          "metadata": {},
          "execution_count": 10
        }
      ]
    },
    {
      "cell_type": "code",
      "source": [
        "10/2"
      ],
      "metadata": {
        "colab": {
          "base_uri": "https://localhost:8080/"
        },
        "id": "4KkYaeoElwCB",
        "outputId": "6f0dd0d5-09ed-4824-e125-6b29d83c1581"
      },
      "execution_count": null,
      "outputs": [
        {
          "output_type": "execute_result",
          "data": {
            "text/plain": [
              "5.0"
            ]
          },
          "metadata": {},
          "execution_count": 11
        }
      ]
    },
    {
      "cell_type": "code",
      "source": [
        "# modulus: remainder: %\n",
        "# even number s\n",
        "10%2==0"
      ],
      "metadata": {
        "colab": {
          "base_uri": "https://localhost:8080/"
        },
        "id": "x_p9GZHqlyWZ",
        "outputId": "fa02c609-8011-4ef9-e56b-5361043578b4"
      },
      "execution_count": null,
      "outputs": [
        {
          "output_type": "execute_result",
          "data": {
            "text/plain": [
              "True"
            ]
          },
          "metadata": {},
          "execution_count": 12
        }
      ]
    },
    {
      "cell_type": "code",
      "source": [
        "10%2!=0"
      ],
      "metadata": {
        "colab": {
          "base_uri": "https://localhost:8080/"
        },
        "id": "JXKcGhJKl-Jj",
        "outputId": "228d9444-0eb5-4496-af29-7a772ff93d17"
      },
      "execution_count": null,
      "outputs": [
        {
          "output_type": "execute_result",
          "data": {
            "text/plain": [
              "False"
            ]
          },
          "metadata": {},
          "execution_count": 13
        }
      ]
    },
    {
      "cell_type": "code",
      "source": [
        "# floor division: round down:\n",
        "7//2"
      ],
      "metadata": {
        "colab": {
          "base_uri": "https://localhost:8080/"
        },
        "id": "MF0hd-j_mEAb",
        "outputId": "a5924cb3-c073-420d-b534-8b82f6adaebe"
      },
      "execution_count": null,
      "outputs": [
        {
          "output_type": "execute_result",
          "data": {
            "text/plain": [
              "3"
            ]
          },
          "metadata": {},
          "execution_count": 14
        }
      ]
    },
    {
      "cell_type": "code",
      "source": [
        "#to the power\n",
        "2**4\n"
      ],
      "metadata": {
        "colab": {
          "base_uri": "https://localhost:8080/"
        },
        "id": "gUHXX3DZmOZd",
        "outputId": "06e0de21-bfb3-4c7d-b1c7-1835558da729"
      },
      "execution_count": null,
      "outputs": [
        {
          "output_type": "execute_result",
          "data": {
            "text/plain": [
              "16"
            ]
          },
          "metadata": {},
          "execution_count": 24
        }
      ]
    },
    {
      "cell_type": "code",
      "source": [
        "#float: exactly same as integer in operations\n",
        "1.01+1.02"
      ],
      "metadata": {
        "colab": {
          "base_uri": "https://localhost:8080/"
        },
        "id": "C4szvJHuoh29",
        "outputId": "fc41831d-10b6-4ff8-89c9-f496ef5754f0"
      },
      "execution_count": null,
      "outputs": [
        {
          "output_type": "execute_result",
          "data": {
            "text/plain": [
              "2.0300000000000002"
            ]
          },
          "metadata": {},
          "execution_count": 27
        }
      ]
    },
    {
      "cell_type": "code",
      "source": [
        "# boolearn (True / False): T and F are capital\n",
        "# True = 1\n",
        "# False = 0\n"
      ],
      "metadata": {
        "id": "hyP8lDUxoz7E"
      },
      "execution_count": null,
      "outputs": []
    },
    {
      "cell_type": "code",
      "source": [
        "True + False"
      ],
      "metadata": {
        "colab": {
          "base_uri": "https://localhost:8080/"
        },
        "id": "GREtNl-lpGqn",
        "outputId": "a0e85624-fc62-4455-bd90-b2f513a579c5"
      },
      "execution_count": null,
      "outputs": [
        {
          "output_type": "execute_result",
          "data": {
            "text/plain": [
              "1"
            ]
          },
          "metadata": {},
          "execution_count": 30
        }
      ]
    },
    {
      "cell_type": "markdown",
      "source": [
        "**Python Data Structure** **bold text**"
      ],
      "metadata": {
        "id": "-ZRStc2Xtle3"
      }
    },
    {
      "cell_type": "code",
      "source": [
        "# List : Ordered, allowes duplicates, mutable, hetrogenous\n",
        "#tuple : ordered, allowes duplicates, immutable\n",
        "#dictionary : ordered, does not allow duplicates, mutable\n",
        "# set: unordered, doesnot allow duplicates, slightly mutable\n",
        "\n",
        "#| Data Type   | Ordered | Allows Duplicates | Mutable  | Homogeneous / Heterogeneous |\n",
        "#|-------------|---------|-------------------|----------|-----------------------------|\n",
        "#| List        | ✅ Yes  | ✅ Yes            | ✅ Yes   | Heterogeneous               |\n",
        "#| Tuple       | ✅ Yes  | ✅ Yes            | ❌ No    | Heterogeneous               |\n",
        "#| Dictionary  | ✅ Yes  | ❌ No             | ✅ Yes   | Heterogeneous (keys unique) |\n",
        "#| Set         | ❌ No   | ❌ No             | ♻️ Slightly | Heterogeneous            |\n"
      ],
      "metadata": {
        "id": "6sBGd6qcpMFU"
      },
      "execution_count": 2,
      "outputs": []
    },
    {
      "cell_type": "markdown",
      "source": [
        "## Find Lenght of string"
      ],
      "metadata": {
        "id": "3cI12Na2nw35"
      }
    },
    {
      "cell_type": "code",
      "source": [
        "x = 'Shubham'\n",
        "i= len(x)\n",
        "print(i)"
      ],
      "metadata": {
        "colab": {
          "base_uri": "https://localhost:8080/"
        },
        "id": "tbxQEdZ0n1Yx",
        "outputId": "1c3ff07e-200c-42d4-c442-f8e69e4939e2"
      },
      "execution_count": null,
      "outputs": [
        {
          "output_type": "stream",
          "name": "stdout",
          "text": [
            "7\n"
          ]
        }
      ]
    }
  ]
}