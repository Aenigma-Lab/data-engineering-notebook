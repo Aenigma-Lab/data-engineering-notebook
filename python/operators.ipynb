{
  "nbformat": 4,
  "nbformat_minor": 0,
  "metadata": {
    "colab": {
      "provenance": [],
      "authorship_tag": "ABX9TyMaQHLK+IUX0qIwWKvDemY0",
      "include_colab_link": true
    },
    "kernelspec": {
      "name": "python3",
      "display_name": "Python 3"
    },
    "language_info": {
      "name": "python"
    }
  },
  "cells": [
    {
      "cell_type": "markdown",
      "metadata": {
        "id": "view-in-github",
        "colab_type": "text"
      },
      "source": [
        "<a href=\"https://colab.research.google.com/github/Aenigma-Lab/data-engineering-notebook/blob/main/python/operators.ipynb\" target=\"_parent\"><img src=\"https://colab.research.google.com/assets/colab-badge.svg\" alt=\"Open In Colab\"/></a>"
      ]
    },
    {
      "cell_type": "markdown",
      "source": [
        "## Operators\n",
        "\n"
      ],
      "metadata": {
        "id": "fLe-5AZMn9IK"
      }
    },
    {
      "cell_type": "markdown",
      "source": [
        "**Arithmetic Operator**"
      ],
      "metadata": {
        "id": "HZEYu2kZqACZ"
      }
    },
    {
      "cell_type": "code",
      "execution_count": 2,
      "metadata": {
        "colab": {
          "base_uri": "https://localhost:8080/"
        },
        "id": "vSqnfURNn2TF",
        "outputId": "61132f47-4bb3-415e-c515-a819f45863fa"
      },
      "outputs": [
        {
          "output_type": "stream",
          "name": "stdout",
          "text": [
            "Addition (+): 7\n",
            "Subtraction (-): 3\n",
            "Multiplication (*): 10\n",
            "Division (/): 2.5\n",
            "Floor Division (//): 2\n",
            "Exponentiation (**): 25\n"
          ]
        }
      ],
      "source": [
        "# ----------------------------------------------------------\n",
        "#  Arithmetic Operators in Python\n",
        "# ----------------------------------------------------------\n",
        "# | Operator | Name           | Example Code | Output | Explanation                                        |\n",
        "# | -------- | -------------- | ------------ | ------ | -------------------------------------------------- |\n",
        "# |   +      | Addition       |   5 + 3      |   8    | Adds two numbers.                                  |\n",
        "# |   -      | Subtraction    |   5 - 3      |   2    | Subtracts right operand from left.                 |\n",
        "# |   *      | Multiplication |   5 * 3      |   15   | Multiplies two numbers.                            |\n",
        "# |   /      | Division       |   5 / 2      |  2.5   | Divides and returns a float.                       |\n",
        "# |  //      | Floor Division |   5 // 2     |   2    | Divides and **rounds down** to nearest integer.    |\n",
        "# |  **      | Exponentiation |   2 ** 3     |   8    | Raises left operand to the power of right operand. |\n",
        "# ----------------------------------------------------------\n",
        "\n",
        "a = 5\n",
        "b = 2\n",
        "\n",
        "print(\"Addition (+):\", a + b)        # 7\n",
        "print(\"Subtraction (-):\", a - b)     # 3\n",
        "print(\"Multiplication (*):\", a * b)  # 10\n",
        "print(\"Division (/):\", a / b)        # 2.5\n",
        "print(\"Floor Division (//):\", a // b) # 2\n",
        "print(\"Exponentiation (**):\", a ** b) # 25\n"
      ]
    },
    {
      "cell_type": "markdown",
      "source": [
        "**Assignment Operator**"
      ],
      "metadata": {
        "id": "rrNlfCMdoiZ4"
      }
    },
    {
      "cell_type": "code",
      "source": [
        "# ----------------------------------------------------------\n",
        "#  Assignment Operators in Python\n",
        "# ----------------------------------------------------------\n",
        "# | Operator | Example Code  | Equivalent To  | Explanation                                         |\n",
        "# | -------- | ------------- | -------------- | --------------------------------------------------- |\n",
        "# | =        | x = 5         | x = 5          | Assigns value on the right to variable on the left. |\n",
        "# | +=       | x += 3        | x = x + 3      | Adds and assigns result to the same variable.       |\n",
        "# | -=       | x -= 3        | x = x - 3      | Subtracts and assigns result to the same variable.  |\n",
        "# | *=       | x *= 3        | x = x * 3      | Multiplies and assigns result to the same variable. |\n",
        "# | /=       | x /= 3        | x = x / 3      | Divides and assigns result (float) to variable.     |\n",
        "# | //=      | x //= 3       | x = x // 3     | Floor divides and assigns result.                   |\n",
        "# | %=       | x %= 3        | x = x % 3      | Takes modulus and assigns result.                   |\n",
        "# | **=      | x **= 3       | x = x ** 3     | Raises to power and assigns result.                  |\n",
        "# ----------------------------------------------------------\n",
        "\n",
        "x = 5\n",
        "x+=5\n",
        "print(x)"
      ],
      "metadata": {
        "colab": {
          "base_uri": "https://localhost:8080/"
        },
        "id": "rSHtO57copeK",
        "outputId": "300048d4-7426-411c-9e30-8eb019e3493f"
      },
      "execution_count": 6,
      "outputs": [
        {
          "output_type": "stream",
          "name": "stdout",
          "text": [
            "10\n"
          ]
        }
      ]
    },
    {
      "cell_type": "markdown",
      "source": [
        "**Comparison operator**"
      ],
      "metadata": {
        "id": "JvnAmxXbqtJm"
      }
    },
    {
      "cell_type": "code",
      "source": [
        "# Comparison Operators in Python\n",
        "# ------------------------------------------------------------------\n",
        "# | Operator | Example        | Output | Explanation               |\n",
        "# |----------|---------------|--------|---------------------------|\n",
        "# | ==       | 5 == 3         | False  | True if equal             |\n",
        "# | !=       | 5 != 3         | True   | True if not equal         |\n",
        "# | >        | 5 > 3          | True   | True if left is greater   |\n",
        "# | <        | 5 < 3          | False  | True if left is smaller   |\n",
        "# | >=       | 5 >= 3         | True   | True if left >= right     |\n",
        "# | <=       | 5 <= 3         | False  | True if left <= right     |\n",
        "# ------------------------------------------------------------------\n",
        "\n",
        "\n",
        "print(5 == 3)   # False  -> 5 is not equal to 3\n",
        "print(5 != 3)   # True   -> 5 is not equal to 3\n",
        "print(5 > 3)    # True   -> 5 is greater than 3\n",
        "print(5 < 3)    # False  -> 5 is not less than 3\n",
        "print(5 >= 3)   # True   -> 5 is greater than or equal to 3\n",
        "print(5 <= 3)   # False  -> 5 is not less than or equal to 3\n"
      ],
      "metadata": {
        "colab": {
          "base_uri": "https://localhost:8080/"
        },
        "id": "uQmPntHEqVMC",
        "outputId": "2d269e81-4c76-4aa5-ff59-c21e9c1951d8"
      },
      "execution_count": 8,
      "outputs": [
        {
          "output_type": "stream",
          "name": "stdout",
          "text": [
            "False\n",
            "True\n",
            "True\n",
            "False\n",
            "True\n",
            "False\n"
          ]
        }
      ]
    },
    {
      "cell_type": "markdown",
      "source": [
        "**Logical Operator**"
      ],
      "metadata": {
        "id": "i6svI42FqzHX"
      }
    },
    {
      "cell_type": "code",
      "source": [
        "# Logical Operators in Python\n",
        "\n",
        "# and → True if both conditions are True\n",
        "print((5 > 3) and (10 > 5))   # True  -> Both conditions are True\n",
        "\n",
        "# or → True if at least one condition is True\n",
        "print((5 > 10) or (10 > 5))   # True  -> Second condition is True\n",
        "\n",
        "# not → Inverts the boolean value\n",
        "print(not (5 > 3))            # False -> 5 > 3 is True, so not True is False\n"
      ],
      "metadata": {
        "colab": {
          "base_uri": "https://localhost:8080/"
        },
        "id": "jNJZ2c0Kqg4b",
        "outputId": "965c6f75-45ac-4d28-80e6-c85314983cd1"
      },
      "execution_count": 9,
      "outputs": [
        {
          "output_type": "stream",
          "name": "stdout",
          "text": [
            "True\n",
            "True\n",
            "False\n"
          ]
        }
      ]
    }
  ]
}