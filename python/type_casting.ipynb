{
  "nbformat": 4,
  "nbformat_minor": 0,
  "metadata": {
    "colab": {
      "provenance": [],
      "authorship_tag": "ABX9TyPPdYRk3Vo1Ak1BkeQ05+5I",
      "include_colab_link": true
    },
    "kernelspec": {
      "name": "python3",
      "display_name": "Python 3"
    },
    "language_info": {
      "name": "python"
    }
  },
  "cells": [
    {
      "cell_type": "markdown",
      "metadata": {
        "id": "view-in-github",
        "colab_type": "text"
      },
      "source": [
        "<a href=\"https://colab.research.google.com/github/Aenigma-Lab/data-engineering-notebook/blob/main/python/type_casting.ipynb\" target=\"_parent\"><img src=\"https://colab.research.google.com/assets/colab-badge.svg\" alt=\"Open In Colab\"/></a>"
      ]
    },
    {
      "cell_type": "markdown",
      "source": [
        "# Type Casting"
      ],
      "metadata": {
        "id": "wNBJChner9GZ"
      }
    },
    {
      "cell_type": "code",
      "execution_count": 3,
      "metadata": {
        "id": "hYi8ZJz8r6AK",
        "colab": {
          "base_uri": "https://localhost:8080/"
        },
        "outputId": "979a78a5-0f1e-486e-b0dc-83f324c7e7d8"
      },
      "outputs": [
        {
          "output_type": "stream",
          "name": "stdout",
          "text": [
            "5.0\n",
            "99\n",
            "25\n",
            "100\n",
            "5.8\n"
          ]
        }
      ],
      "source": [
        "# Integer to float\n",
        "num_int = 5\n",
        "num_float = float(num_int)\n",
        "print(num_float)  # 5.0\n",
        "\n",
        "# Float to integer\n",
        "price = 99.99\n",
        "price_int = int(price)\n",
        "print(price_int)  # 99\n",
        "\n",
        "# String to integer\n",
        "age_str = \"25\"\n",
        "age_int = int(age_str)\n",
        "print(age_int)    # 25\n",
        "\n",
        "# Integer to string\n",
        "score = 100\n",
        "score_str = str(score)\n",
        "print(score_str)  # \"100\"\n",
        "\n",
        "# String to float\n",
        "height_str = \"5.8\"\n",
        "height_float = float(height_str)\n",
        "print(height_float)  # 5.8\n"
      ]
    }
  ]
}