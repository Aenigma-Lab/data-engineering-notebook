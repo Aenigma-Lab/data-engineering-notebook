{
  "nbformat": 4,
  "nbformat_minor": 0,
  "metadata": {
    "colab": {
      "provenance": [],
      "authorship_tag": "ABX9TyM2yUKySwXGIAdgUSLacRuY",
      "include_colab_link": true
    },
    "kernelspec": {
      "name": "python3",
      "display_name": "Python 3"
    },
    "language_info": {
      "name": "python"
    }
  },
  "cells": [
    {
      "cell_type": "markdown",
      "metadata": {
        "id": "view-in-github",
        "colab_type": "text"
      },
      "source": [
        "<a href=\"https://colab.research.google.com/github/Aenigma-Lab/data-engineering-notebook/blob/main/python/list_operations.ipynb\" target=\"_parent\"><img src=\"https://colab.research.google.com/assets/colab-badge.svg\" alt=\"Open In Colab\"/></a>"
      ]
    },
    {
      "cell_type": "markdown",
      "source": [
        "# List Operations\n"
      ],
      "metadata": {
        "id": "S4faHCDsr3Xc"
      }
    },
    {
      "cell_type": "markdown",
      "source": [
        "**string slicing**"
      ],
      "metadata": {
        "id": "QZjOeff8-fL2"
      }
    },
    {
      "cell_type": "code",
      "execution_count": null,
      "metadata": {
        "colab": {
          "base_uri": "https://localhost:8080/"
        },
        "id": "46UJL-oUrrrx",
        "outputId": "7bbb4a15-069d-49f1-bd14-da3083bb8ee6"
      },
      "outputs": [
        {
          "output_type": "stream",
          "name": "stdout",
          "text": [
            "['shubham', True, 1.004]\n",
            "[1, 2, 3]\n",
            "[]\n",
            "['shubham', True, 1.004]\n"
          ]
        }
      ],
      "source": [
        "# List is ordered, allow duplicates, mutable, hetrogeneous\n",
        "\n",
        "x = [1,2,3,4,'shubham',True,1.004]\n",
        "\n",
        "# print last three index from list. NOte------ Lower number will always first(-3) and higher number in laset\n",
        "print(x[-3:])\n",
        "\n",
        "print(x[:3])# print index 0-2 here third index will excluded.\n",
        "\n",
        "print(x[-1:2]) # the ending point should be after the starting point then only it will correct\n",
        "\n",
        "print(x[-3:7])"
      ]
    },
    {
      "cell_type": "code",
      "source": [
        "#[start:stop:step]-- its start with 0 index stop at last index and take steps to move 2 index every time.\n",
        "x = [1,2,3,4,'shubham',True,1.004]\n",
        "x[::2]"
      ],
      "metadata": {
        "id": "WAActi0NsfC-",
        "colab": {
          "base_uri": "https://localhost:8080/"
        },
        "outputId": "15872e84-d1e7-4b5c-ed1e-b2e6620f0d5b"
      },
      "execution_count": 2,
      "outputs": [
        {
          "output_type": "execute_result",
          "data": {
            "text/plain": [
              "[1, 3, 'shubham', 1.004]"
            ]
          },
          "metadata": {},
          "execution_count": 2
        }
      ]
    },
    {
      "cell_type": "code",
      "source": [
        "#reverse\n",
        "x[::-1]"
      ],
      "metadata": {
        "id": "v0cbLiMDslm2",
        "colab": {
          "base_uri": "https://localhost:8080/"
        },
        "outputId": "bc206f58-e21b-4c03-f537-34007048e514"
      },
      "execution_count": 3,
      "outputs": [
        {
          "output_type": "execute_result",
          "data": {
            "text/plain": [
              "[1.004, True, 'shubham', 4, 3, 2, 1]"
            ]
          },
          "metadata": {},
          "execution_count": 3
        }
      ]
    },
    {
      "cell_type": "code",
      "source": [
        "#find the index of last element in list\n",
        "x = [1,2,3,4,'shubham',True,1.004]\n",
        "print(x.index(x[-1]))\n",
        "\n",
        "print(len(x)-1)"
      ],
      "metadata": {
        "colab": {
          "base_uri": "https://localhost:8080/"
        },
        "id": "1PYwxQ9V-yzX",
        "outputId": "2a5623b7-0985-45dc-9e7a-057d2d8a1e7d"
      },
      "execution_count": 9,
      "outputs": [
        {
          "output_type": "stream",
          "name": "stdout",
          "text": [
            "6\n",
            "6\n"
          ]
        }
      ]
    },
    {
      "cell_type": "code",
      "source": [
        "# String Mutable:  add, remvoe, replace, remove the list.\n",
        "\n",
        "z = [1,2,3,3,4,5,5,5,6,7]"
      ],
      "metadata": {
        "id": "Zix0cMG4_EVJ"
      },
      "execution_count": 31,
      "outputs": []
    },
    {
      "cell_type": "code",
      "source": [],
      "metadata": {
        "id": "I3tpkyTUCbSS"
      },
      "execution_count": null,
      "outputs": []
    },
    {
      "cell_type": "code",
      "source": [
        "# add elements in list:\n",
        "\n",
        "# append------> add element at end of list.\n",
        "# extend------>\n",
        "# insert------>\n",
        "\n",
        "\n",
        "z.append(10)\n",
        "print(z)"
      ],
      "metadata": {
        "colab": {
          "base_uri": "https://localhost:8080/"
        },
        "id": "pczmhi1sBFZi",
        "outputId": "311f3a47-1a10-4be5-b3ec-11df64f24486"
      },
      "execution_count": 32,
      "outputs": [
        {
          "output_type": "stream",
          "name": "stdout",
          "text": [
            "[1, 2, 3, 3, 4, 5, 5, 5, 6, 7, 10]\n"
          ]
        }
      ]
    },
    {
      "cell_type": "code",
      "source": [
        "# we can also append the object in the list.\n",
        "\n",
        "z.append(['apple','banana'])\n",
        "print(z)"
      ],
      "metadata": {
        "colab": {
          "base_uri": "https://localhost:8080/"
        },
        "id": "jfTIVhzqCFli",
        "outputId": "bf35e842-0727-4ed3-b8fe-05667210c4f4"
      },
      "execution_count": 33,
      "outputs": [
        {
          "output_type": "stream",
          "name": "stdout",
          "text": [
            "[1, 2, 3, 3, 4, 5, 5, 5, 6, 7, 10, ['apple', 'banana']]\n"
          ]
        }
      ]
    },
    {
      "cell_type": "code",
      "source": [
        "len(z) # here ['apple','banana'] will count as 1 not 2 it is object its conunt 1."
      ],
      "metadata": {
        "colab": {
          "base_uri": "https://localhost:8080/"
        },
        "id": "i_luGKEpD6-V",
        "outputId": "eec4eb10-1889-4bd5-90f5-f65a4de9a819"
      },
      "execution_count": 34,
      "outputs": [
        {
          "output_type": "execute_result",
          "data": {
            "text/plain": [
              "12"
            ]
          },
          "metadata": {},
          "execution_count": 34
        }
      ]
    },
    {
      "cell_type": "code",
      "source": [
        "#Interview Q : append vs extend\n",
        "# append means add single element or single object to the end of the list , and extend means break the second object and merge the secod object to the list.\n",
        "# extend : if two list we can merge to make it single list extend work like that.(it will open the basket and put 2nd list element in fist and merge.)\n",
        "\n",
        "# if we have the same elements dublicates will be added. ex; cherry.\n",
        "x = ['apple','orange','banana', 'cherry']\n",
        "y = ['manago','pineapple','cherry']\n",
        "x.extend(y)\n",
        "print(x)"
      ],
      "metadata": {
        "colab": {
          "base_uri": "https://localhost:8080/"
        },
        "id": "D4cRtnwNEaLP",
        "outputId": "72bf93be-51a0-4a47-cb54-b0cae463481c"
      },
      "execution_count": 37,
      "outputs": [
        {
          "output_type": "stream",
          "name": "stdout",
          "text": [
            "['apple', 'orange', 'banana', 'cherry', 'manago', 'pineapple', 'cherry']\n"
          ]
        }
      ]
    },
    {
      "cell_type": "code",
      "source": [
        "# insert: insert an element into the list. syntex: insert(which position, what to)\n",
        "a = ['apple','orange','banana', 'cherry']\n",
        "a.insert(1,'pineapple')\n",
        "print(a)"
      ],
      "metadata": {
        "colab": {
          "base_uri": "https://localhost:8080/"
        },
        "id": "dZ1CcuyuGL3c",
        "outputId": "8512730d-9619-4dc4-b9b3-16c6f15a5b9f"
      },
      "execution_count": 39,
      "outputs": [
        {
          "output_type": "stream",
          "name": "stdout",
          "text": [
            "['apple', 'pineapple', 'orange', 'banana', 'cherry']\n"
          ]
        }
      ]
    },
    {
      "cell_type": "code",
      "source": [
        "# remove | pop\n",
        "\n",
        "# remove : we need to mention what we need to remove not the postion of what to remove.(interview question)\n",
        "# remove is used to remove the single element form the list.\n",
        "\n",
        "c = ['papaya','jackfruit','pomogranate','banana']\n",
        "c.remove('jackfruit')\n",
        "\n",
        "print(c)"
      ],
      "metadata": {
        "colab": {
          "base_uri": "https://localhost:8080/"
        },
        "id": "7Vc4PWXAYwfC",
        "outputId": "a02ed905-4c21-44db-f079-950df3e2eb82"
      },
      "execution_count": null,
      "outputs": [
        {
          "output_type": "stream",
          "name": "stdout",
          "text": [
            "['papaya', 'pomogranate', 'banana']\n"
          ]
        }
      ]
    },
    {
      "cell_type": "code",
      "source": [
        "# if we have same element of multiple time then what happen. (it will only remove once the element.)\n",
        "\n",
        "d = ['apple','banana','orange','apple']\n",
        "d.remove('apple')\n",
        "print(d)"
      ],
      "metadata": {
        "colab": {
          "base_uri": "https://localhost:8080/"
        },
        "id": "pRJtQ9dpaQgn",
        "outputId": "900cd02d-4e59-4e7d-ffa5-34d09f6a0683"
      },
      "execution_count": 48,
      "outputs": [
        {
          "output_type": "stream",
          "name": "stdout",
          "text": [
            "['banana', 'orange', 'apple']\n"
          ]
        }
      ]
    },
    {
      "cell_type": "code",
      "source": [
        "# pop : remove something based on a position , if i dont mention the postion then it will remove the last element.\n",
        "# pop will also return the removed element. we can also store removed element in varible.\n",
        "d.pop()\n",
        "\n",
        "\n"
      ],
      "metadata": {
        "colab": {
          "base_uri": "https://localhost:8080/",
          "height": 35
        },
        "id": "7fc4iIYldBLW",
        "outputId": "11b6451d-f030-48cf-d784-f0ce07a5de72"
      },
      "execution_count": 49,
      "outputs": [
        {
          "output_type": "execute_result",
          "data": {
            "text/plain": [
              "'apple'"
            ],
            "application/vnd.google.colaboratory.intrinsic+json": {
              "type": "string"
            }
          },
          "metadata": {},
          "execution_count": 49
        }
      ]
    },
    {
      "cell_type": "code",
      "source": [
        "d.pop(0) # it will remove last element"
      ],
      "metadata": {
        "colab": {
          "base_uri": "https://localhost:8080/",
          "height": 35
        },
        "id": "4z692Ye9dSkH",
        "outputId": "dc14306f-68d3-403b-cca0-13b6f578d35c"
      },
      "execution_count": 51,
      "outputs": [
        {
          "output_type": "execute_result",
          "data": {
            "text/plain": [
              "'banana'"
            ],
            "application/vnd.google.colaboratory.intrinsic+json": {
              "type": "string"
            }
          },
          "metadata": {},
          "execution_count": 51
        }
      ]
    },
    {
      "cell_type": "code",
      "source": [
        "# diffrent between remove and pop(rare inteview questions)\n"
      ],
      "metadata": {
        "id": "DYgcpFRqd_yn"
      },
      "execution_count": 52,
      "outputs": []
    },
    {
      "cell_type": "code",
      "source": [
        "# clear() : we clear everything.\n",
        "d.clear()\n",
        "print(d)"
      ],
      "metadata": {
        "colab": {
          "base_uri": "https://localhost:8080/"
        },
        "id": "BZ1cnhdCeFPm",
        "outputId": "39664bee-b984-4d35-b91c-d5ddab889bfe"
      },
      "execution_count": 53,
      "outputs": [
        {
          "output_type": "stream",
          "name": "stdout",
          "text": [
            "[]\n"
          ]
        }
      ]
    },
    {
      "cell_type": "code",
      "source": [
        "# del\n",
        "fruits = [\"apple\", \"banana\", \"cherry\"]\n",
        "del fruits[1]     # Deletes \"banana\"\n",
        "print(fruits)     # Output: ['apple', 'cherry']"
      ],
      "metadata": {
        "colab": {
          "base_uri": "https://localhost:8080/"
        },
        "id": "X9vYGpimfb9R",
        "outputId": "0a13bf42-8102-4488-ba9d-1fad41f5965e"
      },
      "execution_count": 58,
      "outputs": [
        {
          "output_type": "stream",
          "name": "stdout",
          "text": [
            "['apple', 'cherry']\n"
          ]
        }
      ]
    },
    {
      "cell_type": "code",
      "source": [
        "# Deleting multiple items from a list\n",
        "\n",
        "numbers = [1, 2, 3, 4, 5]\n",
        "del numbers[1:4]  # Deletes 2, 3, 4\n",
        "print(numbers)    # Output: [1, 5]"
      ],
      "metadata": {
        "colab": {
          "base_uri": "https://localhost:8080/"
        },
        "id": "H1mpNnc9f_UQ",
        "outputId": "2a633417-43d9-4eb0-f59f-7197c95735c3"
      },
      "execution_count": 59,
      "outputs": [
        {
          "output_type": "stream",
          "name": "stdout",
          "text": [
            "[1, 5]\n"
          ]
        }
      ]
    }
  ]
}